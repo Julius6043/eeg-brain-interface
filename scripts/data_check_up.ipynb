{
 "cells": [
  {
   "cell_type": "markdown",
   "id": "07fd7366",
   "metadata": {},
   "source": [
    "# Checking the No. of Streams\n",
    "\n",
    "* Your first step always should be checking how many streams you have in the .xdf file.\n",
    "* We use the pyxdf library to work with these files.\n",
    "* The number should be $3$ in our case. If there are three streams then you can continue with other specific checks otherwise the recording was unsuccessful."
   ]
  },
  {
   "cell_type": "code",
   "execution_count": null,
   "id": "0a01cda2",
   "metadata": {},
   "outputs": [],
   "source": [
    "import pyxdf\n",
    "import pandas as pd\n",
    "import numpy as np\n",
    "\n",
    "streams, header = pyxdf.load_xdf('test_run1.xdf')\n",
    "\n",
    "for s in streams:\n",
    "    print(s['info']['name'][0])"
   ]
  },
  {
   "cell_type": "markdown",
   "id": "67c5a676",
   "metadata": {},
   "source": [
    "# EEG Stream Check-Up\n",
    "\n",
    "* Load the **streams**, change the name of the file and ideal if you put this script in the same folder as the files so you don't have to work through the directory related problems.\n",
    "* Use `.head()` to check the 1st 5 values and `tail()` for the last 5 values to make sure the device was on during the whole time. The values of all channels should be non-zero."
   ]
  },
  {
   "cell_type": "code",
   "execution_count": null,
   "id": "ad8eb7d5",
   "metadata": {},
   "outputs": [
    {
     "name": "stdout",
     "output_type": "stream",
     "text": [
      "EEG DataFrame: (397344, 18)\n"
     ]
    },
    {
     "data": {
      "application/vnd.microsoft.datawrangler.viewer.v0+json": {
       "columns": [
        {
         "name": "index",
         "rawType": "int64",
         "type": "integer"
        },
        {
         "name": "time",
         "rawType": "float64",
         "type": "float"
        },
        {
         "name": "ch0",
         "rawType": "float32",
         "type": "float"
        },
        {
         "name": "ch1",
         "rawType": "float32",
         "type": "float"
        },
        {
         "name": "ch2",
         "rawType": "float32",
         "type": "float"
        },
        {
         "name": "ch3",
         "rawType": "float32",
         "type": "float"
        },
        {
         "name": "ch4",
         "rawType": "float32",
         "type": "float"
        },
        {
         "name": "ch5",
         "rawType": "float32",
         "type": "float"
        },
        {
         "name": "ch6",
         "rawType": "float32",
         "type": "float"
        },
        {
         "name": "ch7",
         "rawType": "float32",
         "type": "float"
        },
        {
         "name": "ch8",
         "rawType": "float32",
         "type": "float"
        },
        {
         "name": "ch9",
         "rawType": "float32",
         "type": "float"
        },
        {
         "name": "ch10",
         "rawType": "float32",
         "type": "float"
        },
        {
         "name": "ch11",
         "rawType": "float32",
         "type": "float"
        },
        {
         "name": "ch12",
         "rawType": "float32",
         "type": "float"
        },
        {
         "name": "ch13",
         "rawType": "float32",
         "type": "float"
        },
        {
         "name": "ch14",
         "rawType": "float32",
         "type": "float"
        },
        {
         "name": "ch15",
         "rawType": "float32",
         "type": "float"
        },
        {
         "name": "ch16",
         "rawType": "float32",
         "type": "float"
        }
       ],
       "ref": "5e89cb04-6dff-4e53-a65d-e8ebba9b8c4d",
       "rows": [
        [
         "397339",
         "334675.6087304375",
         "308500.66",
         "290122.44",
         "255868.12",
         "283525.72",
         "263405.03",
         "278643.38",
         "265150.53",
         "271883.5",
         "0.06225586",
         "0.98706055",
         "-0.15991211",
         "-1.2512206",
         "-1.220703",
         "0.7324218",
         "60.0",
         "659280.0",
         "1.0"
        ],
        [
         "397340",
         "334675.61272696697",
         "308486.2",
         "289964.62",
         "255854.34",
         "283523.66",
         "263398.44",
         "278638.28",
         "264765.0",
         "271879.12",
         "0.061279297",
         "0.9885254",
         "-0.15942383",
         "-1.1901854",
         "-1.220703",
         "0.8544921",
         "60.0",
         "659281.0",
         "1.0"
        ],
        [
         "397341",
         "334675.6167234964",
         "308482.25",
         "289941.75",
         "255853.1",
         "283515.72",
         "263395.66",
         "278638.28",
         "264754.1",
         "271876.62",
         "0.060546875",
         "0.98950195",
         "-0.1574707",
         "-1.2512206",
         "-1.0986327",
         "0.9155273",
         "60.0",
         "659282.0",
         "1.0"
        ],
        [
         "397342",
         "334675.6207200258",
         "308498.34",
         "290087.56",
         "255868.12",
         "283515.62",
         "263406.2",
         "278648.75",
         "265135.4",
         "271887.0",
         "0.060302734",
         "0.99316406",
         "-0.15820312",
         "-1.220703",
         "-0.8544921",
         "0.7629394",
         "60.0",
         "659283.0",
         "1.0"
        ],
        [
         "397343",
         "334675.62471655523",
         "308506.75",
         "290196.28",
         "255876.8",
         "283517.94",
         "263414.97",
         "278656.44",
         "265382.1",
         "271892.1",
         "0.05883789",
         "0.9951172",
         "-0.15649414",
         "-1.0986327",
         "-0.793457",
         "0.67138666",
         "60.0",
         "659284.0",
         "1.0"
        ]
       ],
       "shape": {
        "columns": 18,
        "rows": 5
       }
      },
      "text/html": [
       "<div>\n",
       "<style scoped>\n",
       "    .dataframe tbody tr th:only-of-type {\n",
       "        vertical-align: middle;\n",
       "    }\n",
       "\n",
       "    .dataframe tbody tr th {\n",
       "        vertical-align: top;\n",
       "    }\n",
       "\n",
       "    .dataframe thead th {\n",
       "        text-align: right;\n",
       "    }\n",
       "</style>\n",
       "<table border=\"1\" class=\"dataframe\">\n",
       "  <thead>\n",
       "    <tr style=\"text-align: right;\">\n",
       "      <th></th>\n",
       "      <th>time</th>\n",
       "      <th>ch0</th>\n",
       "      <th>ch1</th>\n",
       "      <th>ch2</th>\n",
       "      <th>ch3</th>\n",
       "      <th>ch4</th>\n",
       "      <th>ch5</th>\n",
       "      <th>ch6</th>\n",
       "      <th>ch7</th>\n",
       "      <th>ch8</th>\n",
       "      <th>ch9</th>\n",
       "      <th>ch10</th>\n",
       "      <th>ch11</th>\n",
       "      <th>ch12</th>\n",
       "      <th>ch13</th>\n",
       "      <th>ch14</th>\n",
       "      <th>ch15</th>\n",
       "      <th>ch16</th>\n",
       "    </tr>\n",
       "  </thead>\n",
       "  <tbody>\n",
       "    <tr>\n",
       "      <th>397339</th>\n",
       "      <td>334675.608730</td>\n",
       "      <td>308500.65625</td>\n",
       "      <td>290122.43750</td>\n",
       "      <td>255868.125000</td>\n",
       "      <td>283525.71875</td>\n",
       "      <td>263405.03125</td>\n",
       "      <td>278643.37500</td>\n",
       "      <td>265150.53125</td>\n",
       "      <td>271883.50000</td>\n",
       "      <td>0.062256</td>\n",
       "      <td>0.987061</td>\n",
       "      <td>-0.159912</td>\n",
       "      <td>-1.251221</td>\n",
       "      <td>-1.220703</td>\n",
       "      <td>0.732422</td>\n",
       "      <td>60.0</td>\n",
       "      <td>659280.0</td>\n",
       "      <td>1.0</td>\n",
       "    </tr>\n",
       "    <tr>\n",
       "      <th>397340</th>\n",
       "      <td>334675.612727</td>\n",
       "      <td>308486.18750</td>\n",
       "      <td>289964.62500</td>\n",
       "      <td>255854.343750</td>\n",
       "      <td>283523.65625</td>\n",
       "      <td>263398.43750</td>\n",
       "      <td>278638.28125</td>\n",
       "      <td>264765.00000</td>\n",
       "      <td>271879.12500</td>\n",
       "      <td>0.061279</td>\n",
       "      <td>0.988525</td>\n",
       "      <td>-0.159424</td>\n",
       "      <td>-1.190185</td>\n",
       "      <td>-1.220703</td>\n",
       "      <td>0.854492</td>\n",
       "      <td>60.0</td>\n",
       "      <td>659281.0</td>\n",
       "      <td>1.0</td>\n",
       "    </tr>\n",
       "    <tr>\n",
       "      <th>397341</th>\n",
       "      <td>334675.616723</td>\n",
       "      <td>308482.25000</td>\n",
       "      <td>289941.75000</td>\n",
       "      <td>255853.093750</td>\n",
       "      <td>283515.71875</td>\n",
       "      <td>263395.65625</td>\n",
       "      <td>278638.28125</td>\n",
       "      <td>264754.09375</td>\n",
       "      <td>271876.62500</td>\n",
       "      <td>0.060547</td>\n",
       "      <td>0.989502</td>\n",
       "      <td>-0.157471</td>\n",
       "      <td>-1.251221</td>\n",
       "      <td>-1.098633</td>\n",
       "      <td>0.915527</td>\n",
       "      <td>60.0</td>\n",
       "      <td>659282.0</td>\n",
       "      <td>1.0</td>\n",
       "    </tr>\n",
       "    <tr>\n",
       "      <th>397342</th>\n",
       "      <td>334675.620720</td>\n",
       "      <td>308498.34375</td>\n",
       "      <td>290087.56250</td>\n",
       "      <td>255868.125000</td>\n",
       "      <td>283515.62500</td>\n",
       "      <td>263406.18750</td>\n",
       "      <td>278648.75000</td>\n",
       "      <td>265135.40625</td>\n",
       "      <td>271887.00000</td>\n",
       "      <td>0.060303</td>\n",
       "      <td>0.993164</td>\n",
       "      <td>-0.158203</td>\n",
       "      <td>-1.220703</td>\n",
       "      <td>-0.854492</td>\n",
       "      <td>0.762939</td>\n",
       "      <td>60.0</td>\n",
       "      <td>659283.0</td>\n",
       "      <td>1.0</td>\n",
       "    </tr>\n",
       "    <tr>\n",
       "      <th>397343</th>\n",
       "      <td>334675.624717</td>\n",
       "      <td>308506.75000</td>\n",
       "      <td>290196.28125</td>\n",
       "      <td>255876.796875</td>\n",
       "      <td>283517.93750</td>\n",
       "      <td>263414.96875</td>\n",
       "      <td>278656.43750</td>\n",
       "      <td>265382.09375</td>\n",
       "      <td>271892.09375</td>\n",
       "      <td>0.058838</td>\n",
       "      <td>0.995117</td>\n",
       "      <td>-0.156494</td>\n",
       "      <td>-1.098633</td>\n",
       "      <td>-0.793457</td>\n",
       "      <td>0.671387</td>\n",
       "      <td>60.0</td>\n",
       "      <td>659284.0</td>\n",
       "      <td>1.0</td>\n",
       "    </tr>\n",
       "  </tbody>\n",
       "</table>\n",
       "</div>"
      ],
      "text/plain": [
       "                 time           ch0           ch1            ch2  \\\n",
       "397339  334675.608730  308500.65625  290122.43750  255868.125000   \n",
       "397340  334675.612727  308486.18750  289964.62500  255854.343750   \n",
       "397341  334675.616723  308482.25000  289941.75000  255853.093750   \n",
       "397342  334675.620720  308498.34375  290087.56250  255868.125000   \n",
       "397343  334675.624717  308506.75000  290196.28125  255876.796875   \n",
       "\n",
       "                 ch3           ch4           ch5           ch6           ch7  \\\n",
       "397339  283525.71875  263405.03125  278643.37500  265150.53125  271883.50000   \n",
       "397340  283523.65625  263398.43750  278638.28125  264765.00000  271879.12500   \n",
       "397341  283515.71875  263395.65625  278638.28125  264754.09375  271876.62500   \n",
       "397342  283515.62500  263406.18750  278648.75000  265135.40625  271887.00000   \n",
       "397343  283517.93750  263414.96875  278656.43750  265382.09375  271892.09375   \n",
       "\n",
       "             ch8       ch9      ch10      ch11      ch12      ch13  ch14  \\\n",
       "397339  0.062256  0.987061 -0.159912 -1.251221 -1.220703  0.732422  60.0   \n",
       "397340  0.061279  0.988525 -0.159424 -1.190185 -1.220703  0.854492  60.0   \n",
       "397341  0.060547  0.989502 -0.157471 -1.251221 -1.098633  0.915527  60.0   \n",
       "397342  0.060303  0.993164 -0.158203 -1.220703 -0.854492  0.762939  60.0   \n",
       "397343  0.058838  0.995117 -0.156494 -1.098633 -0.793457  0.671387  60.0   \n",
       "\n",
       "            ch15  ch16  \n",
       "397339  659280.0   1.0  \n",
       "397340  659281.0   1.0  \n",
       "397341  659282.0   1.0  \n",
       "397342  659283.0   1.0  \n",
       "397343  659284.0   1.0  "
      ]
     },
     "execution_count": 29,
     "metadata": {},
     "output_type": "execute_result"
    }
   ],
   "source": [
    "# Pick the Unicorn/Data stream as EEG\n",
    "eeg = next(s for s in streams\n",
    "           if s['info']['name'][0] == 'Unicorn')\n",
    "\n",
    "# raw data matrix\n",
    "data = eeg['time_series']\n",
    "\n",
    "# rebuild timestamps if they’re flat or missing\n",
    "if (eeg['time_stamps'] is None\n",
    "    or np.allclose(np.diff(eeg['time_stamps']), 0)):\n",
    "    try:\n",
    "        srate = float(eeg['info']['nominal_srate'][0])\n",
    "    except Exception:\n",
    "        srate = 250.\n",
    "    timestamps = np.arange(data.shape[0]) / srate\n",
    "else:\n",
    "    timestamps = eeg['time_stamps']\n",
    "\n",
    "# channel labels (fallback to generic names)\n",
    "try:\n",
    "    chan_labels = [\n",
    "        ch.decode()\n",
    "        for ch in eeg['info']['desc'][0]\n",
    "                             ['channels'][0]['channel']\n",
    "    ]\n",
    "except Exception:\n",
    "    chan_labels = [f'ch{i}' for i in range(data.shape[1])]\n",
    "\n",
    "# build DataFrame\n",
    "eeg_df = pd.DataFrame(data, columns=chan_labels)\n",
    "eeg_df.insert(0, 'time', timestamps)\n",
    "\n",
    "print(\"EEG DataFrame:\", eeg_df.shape)\n",
    "\n",
    "eeg_df.tail()"
   ]
  },
  {
   "cell_type": "markdown",
   "id": "53656775",
   "metadata": {},
   "source": [
    "# Checking up the Markers Stream"
   ]
  },
  {
   "cell_type": "code",
   "execution_count": 34,
   "id": "6aa099b7",
   "metadata": {},
   "outputs": [
    {
     "name": "stdout",
     "output_type": "stream",
     "text": [
      "Marker events:\n",
      "                time                                             marker\n",
      "0     333284.938593                                 main_block_0_start\n",
      "1     333284.938657  sequence_D,H,R,P,H,Z,Q,K,E,H,H,K,M,U,H,H,Q,N,T...\n",
      "2     333284.938681  targets_1,4,9,10,14,15,19,20,22,23,25,29,31,36...\n",
      "3     333284.946777                            main_block_0_trial_0_on\n",
      "4     333287.957966                                         resp_False\n",
      "...             ...                                                ...\n",
      "1484  334631.699265                                          corr_True\n",
      "1485  334631.699271                                       trial_47_end\n",
      "1486  334631.699277                                   main_block_6_end\n",
      "1487  334631.699287                         main_block_6_accuracy_0.88\n",
      "1488  334634.226278                                         resp_False\n",
      "\n",
      "[1489 rows x 2 columns]\n"
     ]
    }
   ],
   "source": [
    "# pick the marker stream by name\n",
    "marker_streams = [s for s in streams if 'nBack_markers' in s['info']['name'][0]]\n",
    "if not marker_streams:\n",
    "    print(\"No marker stream found containing 'NBackMarkers'\")\n",
    "else:\n",
    "    mkr = marker_streams[0]\n",
    "\n",
    "# build a DataFrame of event times + labels\n",
    "mkr_df = pd.DataFrame({\n",
    "    'time'  : mkr['time_stamps'],\n",
    "    'marker': [t[0] for t in mkr['time_series']]\n",
    "})\n",
    "\n",
    "# sort and inspect\n",
    "mkr_df = mkr_df.sort_values('time').reset_index(drop=True)\n",
    "print(f\"Marker events:\\n {mkr_df}\")\n"
   ]
  },
  {
   "cell_type": "markdown",
   "id": "c4f39c27",
   "metadata": {},
   "source": [
    "# Checking up the Mic Stream"
   ]
  },
  {
   "cell_type": "code",
   "execution_count": 19,
   "id": "e6c0dcff",
   "metadata": {},
   "outputs": [
    {
     "name": "stdout",
     "output_type": "stream",
     "text": [
      "Audio dB events:\n",
      "                time   decibels\n",
      "68385  334675.430232 -64.047272\n",
      "68386  334675.479909 -65.495430\n",
      "68387  334675.529601 -49.848625\n",
      "68388  334675.569920 -56.870735\n",
      "68389  334675.619745 -67.059242\n"
     ]
    }
   ],
   "source": [
    "# Pick the audio stream by name (e.g., 'MicDecibels')\n",
    "audio = next(s for s in streams if s['info']['name'][0] == 'MicDecibels')\n",
    "\n",
    "# Build a DataFrame of audio dB values and timestamps\n",
    "audio_df = pd.DataFrame({\n",
    "    'time': audio['time_stamps'],\n",
    "    'decibels': [row[0] for row in audio['time_series']]\n",
    "})\n",
    "\n",
    "# Sort and inspect\n",
    "audio_df = audio_df.sort_values('time').reset_index(drop=True)\n",
    "print(\"Audio dB events:\")\n",
    "print(audio_df.tail())"
   ]
  }
 ],
 "metadata": {
  "kernelspec": {
   "display_name": "bmnn",
   "language": "python",
   "name": "python3"
  },
  "language_info": {
   "codemirror_mode": {
    "name": "ipython",
    "version": 3
   },
   "file_extension": ".py",
   "mimetype": "text/x-python",
   "name": "python",
   "nbconvert_exporter": "python",
   "pygments_lexer": "ipython3",
   "version": "3.13.1"
  }
 },
 "nbformat": 4,
 "nbformat_minor": 5
}
